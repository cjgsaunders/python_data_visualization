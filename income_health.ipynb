{
 "cells": [
  {
   "cell_type": "code",
   "execution_count": 13,
   "source": [
    "# Load libraries\r\n",
    "import pandas as pd\r\n",
    "import matplotlib.pyplot as plt\r\n",
    "import seaborn as sns\r\n",
    "\r\n",
    "\r\n",
    "\r\n",
    "df = pd.read_csv('brfss_for_bda_2021.csv', low_memory=False)\r\n"
   ],
   "outputs": [],
   "metadata": {}
  },
  {
   "cell_type": "code",
   "execution_count": 14,
   "source": [
    "#Select features and remove missing values\r\n",
    "\r\n",
    "new = [\"GENHLTH\", \"INCOME2\", \"_EDUCAG\" ]\r\n",
    "\r\n",
    "missing = [\"Refused\", \"Don't know/Not Sure\", 0, 0.0, 12337, 12331, \"Don't know/Not sure/Missing\", \"Don't know/Not sure\", \"Not asked or Missing\", \"Don't know/Not sure/Missing\"]\r\n",
    "for i in range(len(new)):\r\n",
    "    for j in range(len(missing)):\r\n",
    "        dropNames = df[df[new[i]] == missing[j]].index\r\n",
    "        df.drop(dropNames , inplace=True)\r\n"
   ],
   "outputs": [],
   "metadata": {}
  },
  {
   "cell_type": "code",
   "execution_count": 15,
   "source": [
    "# Convert categorical values to numerical for clearer visualisation\r\n",
    "# Converting them to numbers lets them be processed as an ordinal feature in an ML algorithm \r\n",
    "\r\n",
    "for i in df.index:\r\n",
    "    if df.at[i, \"INCOME2\"] == \"$75,000 or more\":\r\n",
    "        df.at[i, \"INCOME2\"] = 80000\r\n",
    "    elif df.at[i, \"INCOME2\"] == \"Less than $75,000 ($50,000 to less than $75,000)\":\r\n",
    "        df.at[i, \"INCOME2\"] = 65000\r\n",
    "    elif df.at[i, \"INCOME2\"] == \"Less than $50,000 ($35,000 to less than $50,000)\":\r\n",
    "        df.at[i, \"INCOME2\"] = 45000\r\n",
    "    elif df.at[i, \"INCOME2\"] == \"Less than $35,000 ($25,000 to less than $35,000)\":\r\n",
    "        df.at[i, \"INCOME2\"] = 30000\r\n",
    "    elif df.at[i, \"INCOME2\"] == \"Less than $25,000 ($20,000 to less than $25,000)\":\r\n",
    "        df.at[i, \"INCOME2\"] = 23000\r\n",
    "    elif df.at[i, \"INCOME2\"] == \"Less than $20,000 ($15,000 to less than $20,000)\":\r\n",
    "        df.at[i, \"INCOME2\"] = 17000\r\n",
    "    elif df.at[i, \"INCOME2\"] == \"Less than $15,000 ($10,000 to less than $15,000)\":\r\n",
    "        df.at[i, \"INCOME2\"] = 13000\r\n",
    "    elif df.at[i, \"INCOME2\"] == \"Less than $10,000\":\r\n",
    "        df.at[i, \"INCOME2\"] = 5000\r\n",
    "\r\n",
    "#df.INCOME2.value_counts(sort= True).plot.bar()\r\n",
    "\r\n",
    "#df.INCOME2.value_counts() "
   ],
   "outputs": [],
   "metadata": {}
  },
  {
   "cell_type": "code",
   "execution_count": 16,
   "source": [
    "# Convert categorical values to numerical for clearer visualisation\r\n",
    "# Converting them to numbers lets them be processed as an ordinal feature in an ML algorithm \r\n",
    "\r\n",
    "\r\n",
    "for i in df.index:\r\n",
    "    if df.at[i, \"GENHLTH\"] == \"Excellent\":\r\n",
    "        df.at[i, \"GENHLTH\"] = 5\r\n",
    "    elif df.at[i, \"GENHLTH\"] == \"Very good\":\r\n",
    "        df.at[i, \"GENHLTH\"] = 4\r\n",
    "    elif df.at[i, \"GENHLTH\"] == \"Good\":\r\n",
    "        df.at[i, \"GENHLTH\"] = 3\r\n",
    "    elif df.at[i, \"GENHLTH\"] == \"Fair\":\r\n",
    "        df.at[i, \"GENHLTH\"] = 2\r\n",
    "    elif df.at[i, \"GENHLTH\"] == \"Poor\":\r\n",
    "        df.at[i, \"GENHLTH\"] = 1\r\n",
    "   \r\n",
    "\r\n",
    "\r\n",
    "\r\n",
    "#df.GENHLTH.value_counts(sort= True).plot.bar()\r\n",
    "#df.GENHLTH.value_counts() \r\n",
    "df.GENHLTH = df.GENHLTH.astype(int)\r\n"
   ],
   "outputs": [],
   "metadata": {}
  },
  {
   "cell_type": "code",
   "execution_count": 17,
   "source": [
    "# Convert categorical values to numerical for clearer visualisation\r\n",
    "# Converting them to numbers lets them be processed as an ordinal feature in an ML algorithm \r\n",
    "\r\n",
    "\r\n",
    "for i in df.index:\r\n",
    "    if df.at[i, \"_EDUCAG\"] == \"Graduated from College or Technical School\":\r\n",
    "        df.at[i, \"_EDUCAG\"] = 4\r\n",
    "    elif df.at[i, \"_EDUCAG\"] == \"Attended College or Technical School\":\r\n",
    "        df.at[i, \"_EDUCAG\"] = 3\r\n",
    "    elif df.at[i, \"_EDUCAG\"] == \"Graduated High School\":\r\n",
    "        df.at[i, \"_EDUCAG\"] = 2\r\n",
    "    elif df.at[i, \"_EDUCAG\"] == \"Did not graduate High School\":\r\n",
    "        df.at[i, \"_EDUCAG\"] = 1\r\n",
    "\r\n",
    "#df._EDUCAG.value_counts(sort= True).plot.bar()\r\n",
    "#df._EDUCAG.value_counts() \r\n"
   ],
   "outputs": [],
   "metadata": {}
  },
  {
   "cell_type": "code",
   "execution_count": 18,
   "source": [
    "# This plot is normalized. It shows there is some correlation between education and health.\r\n",
    "\r\n",
    "df_plot_edu = df.groupby(['_EDUCAG', 'GENHLTH']).size().reset_index().pivot(columns='GENHLTH', index='_EDUCAG', values=0)\r\n",
    "\r\n",
    "df_plot_edu = df_plot_edu.div(df_plot_edu.sum(1), axis=0)\r\n",
    "\r\n",
    "df_plot_edu.plot(kind='bar', stacked=True, title = \"Education vs Health Level\", xlabel = \"Education Level low - high\", ylabel = \"percentage of data\").legend( title='Health low - high', bbox_to_anchor=(1.05, 1), loc='upper left')"
   ],
   "outputs": [
    {
     "output_type": "execute_result",
     "data": {
      "text/plain": [
       "<matplotlib.legend.Legend at 0x1aa1041f5e0>"
      ]
     },
     "metadata": {},
     "execution_count": 18
    },
    {
     "output_type": "display_data",
     "data": {
      "image/png": "[encoded data removed]",
      "text/plain": [
       "<Figure size 432x288 with 1 Axes>"
      ]
     },
     "metadata": {
      "needs_background": "light"
     }
    }
   ],
   "metadata": {}
  },
  {
   "cell_type": "code",
   "execution_count": 19,
   "source": [
    "# This plot is normalized. It shows there is some correlation between income and health.\r\n",
    "\r\n",
    "df_plot = df.groupby(['INCOME2', 'GENHLTH']).size().reset_index().pivot(columns='GENHLTH', index='INCOME2', values=0)\r\n",
    "\r\n",
    "df_plot = df_plot.div(df_plot.sum(1), axis=0)\r\n",
    "\r\n",
    "df_plot.plot(kind='bar', stacked=True).legend( title='Health low - high',loc='center left',bbox_to_anchor=(1.0, 0.5))"
   ],
   "outputs": [
    {
     "output_type": "execute_result",
     "data": {
      "text/plain": [
       "<matplotlib.legend.Legend at 0x1aa1041f580>"
      ]
     },
     "metadata": {},
     "execution_count": 19
    },
    {
     "output_type": "display_data",
     "data": {
      "image/png": "[encoded data removed]",
      "text/plain": [
       "<Figure size 432x288 with 1 Axes>"
      ]
     },
     "metadata": {
      "needs_background": "light"
     }
    }
   ],
   "metadata": {}
  }
 ],
 "metadata": {
  "orig_nbformat": 4,
  "language_info": {
   "name": "python",
   "version": "3.8.8",
   "mimetype": "text/x-python",
   "codemirror_mode": {
    "name": "ipython",
    "version": 3
   },
   "pygments_lexer": "ipython3",
   "nbconvert_exporter": "python",
   "file_extension": ".py"
  },
  "kernelspec": {
   "name": "python3",
   "display_name": "Python 3.8.8 64-bit ('base': conda)"
  },
  "interpreter": {
   "hash": "9f05889bb7e483469c650f373fad3f0e4920b506d034ad8166c0639c026da922"
  }
 },
 "nbformat": 4,
 "nbformat_minor": 2
}
